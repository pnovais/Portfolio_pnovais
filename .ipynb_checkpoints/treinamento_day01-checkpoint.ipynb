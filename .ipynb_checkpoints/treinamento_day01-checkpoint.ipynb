{
 "cells": [
  {
   "cell_type": "code",
   "execution_count": 8,
   "metadata": {},
   "outputs": [],
   "source": [
    "# -*- coding: utf-8 -*-# -*- c \n",
    "\n",
    "#!/usr/bin/python\n",
    "# -*- coding: utf-8 -*-"
   ]
  },
  {
   "cell_type": "markdown",
   "metadata": {},
   "source": [
    "# Treinamento em Ciência de Dados"
   ]
  },
  {
   "cell_type": "markdown",
   "metadata": {},
   "source": [
    "O treinamento em ciência de dados será focado nos tópicos abaixo:\n",
    "- **Estatística descritiva**: (https://drive.google.com/file/d/0B-DHaDEbiOGkc1RycUtIcUtIelE/view)\n",
    "- **Probabilidade** (Frequentista? Bayeasina?)\n",
    "- **Distribuições** (Gaussianas? Poissonianas? Binomial? T student?)\n",
    "- **Python**: Pandas, scikit-learn, matplotlib (https://www.cin.ufpe.br/~embat/Python%20for%20Data%20Analysis.pdf)\n",
    "- **R**: os pacotes do universo Tidyverse  (http://r4ds.had.co.nz/)\n",
    "\n",
    "\n"
   ]
  },
  {
   "cell_type": "markdown",
   "metadata": {},
   "source": [
    "## Python\n",
    "**>** Por utilizar Python diariamente na minha pesquisa de doutorado, me sinto bastante confortável para utilizar as principais bibliotecas (numpy, pandas, matplotlib, seaborn, astropy) e confortável também em utilizar novas bibliotecas (como scipy e scikit-learn) por ter tranquilidade com python no geral. "
   ]
  },
  {
   "cell_type": "markdown",
   "metadata": {},
   "source": [
    "## R\n",
    "**>** Utilizei bibliotecas do R em diversas situações e, apesar de não ser a minha linguagem principal, me sinto confortável para utilizá-la, visto a vasta gama de tutoriais e informações disponíveis na rede. Ainda, a experiência em Python ajuda bastante, uma vez que há similaridade entre ambas as linguagens."
   ]
  },
  {
   "cell_type": "markdown",
   "metadata": {},
   "source": [
    "## Estatística Descritiva\n",
    "\n",
    "A estatística descritiva é a parte básica da estatística, compreendendo diversos parâmetros que descrevem os dados analisados. Dentro dos possíveis parâmetros da ED, podemos citar a *média*, *mediana*, *moda*, *quartis*, *mínimo*, *máximo*, *desvio padrão*, *variância*. \n",
    "\n",
    "**>** Tenho bastante familiariade com os parâmetros básicos da ED, uma vez que os uso diriamente na minha pesquisa."
   ]
  },
  {
   "cell_type": "markdown",
   "metadata": {},
   "source": [
    "## Probabilidade"
   ]
  },
  {
   "cell_type": "markdown",
   "metadata": {},
   "source": [
    "A probabilidade frequentista é a que mais domino, embora não tenha precisado trabalhar muito com ela recentemente.\n",
    "Já a probabilidade Bayesiana é algo que tenho noção do que seja, mas que nunca usei. \n",
    "\n",
    "Em ambos os casos, entretanto, me sinto confortável em estudar e trabalhar."
   ]
  },
  {
   "cell_type": "code",
   "execution_count": null,
   "metadata": {},
   "outputs": [],
   "source": []
  }
 ],
 "metadata": {
  "kernelspec": {
   "display_name": "Python 3",
   "language": "python",
   "name": "python3"
  },
  "language_info": {
   "codemirror_mode": {
    "name": "ipython",
    "version": 3
   },
   "file_extension": ".py",
   "mimetype": "text/x-python",
   "name": "python",
   "nbconvert_exporter": "python",
   "pygments_lexer": "ipython3",
   "version": "3.6.5"
  }
 },
 "nbformat": 4,
 "nbformat_minor": 2
}
