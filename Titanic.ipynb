{
 "cells": [
  {
   "cell_type": "code",
   "execution_count": 1,
   "metadata": {
    "collapsed": true
   },
   "outputs": [],
   "source": [
    "# -*- coding: utf-8 -*-\n",
    "\n",
    "#!/usr/bin/python\n",
    "# -*- coding: utf-8 -*-"
   ]
  },
  {
   "cell_type": "code",
   "execution_count": 2,
   "metadata": {},
   "outputs": [],
   "source": [
    "__author__ = 'pnovais'"
   ]
  },
  {
   "cell_type": "markdown",
   "metadata": {},
   "source": [
    "## Project Titanic\n",
    "\n",
    "**Pergunta:** \n",
    "Qual a probabilidade de uma pessoa morrer, dado que é do sexo masculino e que estava na 3a classe?"
   ]
  },
  {
   "cell_type": "markdown",
   "metadata": {},
   "source": [
    "Dentre as diversas informações encontradas no dataset, podemos listar as seguintes: \n",
    "-  Nome\n",
    "-  Sexo\n",
    "-  Classe Social\n",
    "-  Se morreu ou não\n",
    "-  Idade"
   ]
  },
  {
   "cell_type": "markdown",
   "metadata": {},
   "source": [
    "### Probabilidade Condicional\n",
    "\n",
    "$P(A|B) = \\frac{P(A \\cap B)}{P(B)}$\n",
    "\n",
    "Em nosso caso, temos 3 eventos:\n",
    "\n",
    "*  **A**: a pessoa morrer\n",
    "\n",
    "*  **B**: ser homem\n",
    "\n",
    "*  **C**: estar na 3a classe\n",
    "\n",
    "Assim, queremos então $P(A| B \\cap C)  $, que pode ser obtido através de\n",
    "\n",
    "$P(A| B \\cap C) =\\frac{P(A \\cap (B \\cap C))}{P(B \\cap C)}$\n",
    "\n",
    "\n",
    "Ainda, sabendo que \n",
    "\n",
    "$P(A \\cap (B \\cap C)) = P(A \\cap B \\cap C) = P(A)P(B|A)P(C|B \\cap A)$\n",
    "\n",
    "Concluimos que a probabilidade de interesse é obtida através de\n",
    "\n",
    "$P(A| B \\cap C) = \\frac{P(A)P(B|A)P(C|B \\cap A)}{P(B \\cap C)}$\n"
   ]
  },
  {
   "cell_type": "markdown",
   "metadata": {},
   "source": [
    "***\n",
    "# Analisando o dataset\n",
    "\n",
    "***"
   ]
  },
  {
   "cell_type": "code",
   "execution_count": 3,
   "metadata": {
    "collapsed": true
   },
   "outputs": [],
   "source": [
    "import numpy as np\n",
    "import pandas as pd\n",
    "import matplotlib.pyplot as plt\n",
    "import seaborn as sns\n",
    "import time\n",
    "import datetime\n",
    "\n",
    "%matplotlib inline\n",
    "ini=time.time()"
   ]
  },
  {
   "cell_type": "code",
   "execution_count": 4,
   "metadata": {
    "collapsed": true
   },
   "outputs": [],
   "source": [
    "plt.style.use('mystyle-paty.mplstyle')"
   ]
  },
  {
   "cell_type": "code",
   "execution_count": 5,
   "metadata": {
    "collapsed": true
   },
   "outputs": [],
   "source": [
    "#Abrindo o dataset\n",
    "link  = 'https://raw.githubusercontent.com/rebeccabilbro/titanic/master/data/train.csv'\n",
    "df0 = pd.read_csv(link)"
   ]
  },
  {
   "cell_type": "code",
   "execution_count": 6,
   "metadata": {},
   "outputs": [
    {
     "data": {
      "text/html": [
       "<div>\n",
       "<table border=\"1\" class=\"dataframe\">\n",
       "  <thead>\n",
       "    <tr style=\"text-align: right;\">\n",
       "      <th></th>\n",
       "      <th>PassengerId</th>\n",
       "      <th>Survived</th>\n",
       "      <th>Pclass</th>\n",
       "      <th>Name</th>\n",
       "      <th>Sex</th>\n",
       "      <th>Age</th>\n",
       "      <th>SibSp</th>\n",
       "      <th>Parch</th>\n",
       "      <th>Ticket</th>\n",
       "      <th>Fare</th>\n",
       "      <th>Cabin</th>\n",
       "      <th>Embarked</th>\n",
       "    </tr>\n",
       "  </thead>\n",
       "  <tbody>\n",
       "    <tr>\n",
       "      <th>0</th>\n",
       "      <td>1</td>\n",
       "      <td>0</td>\n",
       "      <td>3</td>\n",
       "      <td>Braund, Mr. Owen Harris</td>\n",
       "      <td>male</td>\n",
       "      <td>22.0</td>\n",
       "      <td>1</td>\n",
       "      <td>0</td>\n",
       "      <td>A/5 21171</td>\n",
       "      <td>7.2500</td>\n",
       "      <td>NaN</td>\n",
       "      <td>S</td>\n",
       "    </tr>\n",
       "    <tr>\n",
       "      <th>1</th>\n",
       "      <td>2</td>\n",
       "      <td>1</td>\n",
       "      <td>1</td>\n",
       "      <td>Cumings, Mrs. John Bradley (Florence Briggs Th...</td>\n",
       "      <td>female</td>\n",
       "      <td>38.0</td>\n",
       "      <td>1</td>\n",
       "      <td>0</td>\n",
       "      <td>PC 17599</td>\n",
       "      <td>71.2833</td>\n",
       "      <td>C85</td>\n",
       "      <td>C</td>\n",
       "    </tr>\n",
       "    <tr>\n",
       "      <th>2</th>\n",
       "      <td>3</td>\n",
       "      <td>1</td>\n",
       "      <td>3</td>\n",
       "      <td>Heikkinen, Miss. Laina</td>\n",
       "      <td>female</td>\n",
       "      <td>26.0</td>\n",
       "      <td>0</td>\n",
       "      <td>0</td>\n",
       "      <td>STON/O2. 3101282</td>\n",
       "      <td>7.9250</td>\n",
       "      <td>NaN</td>\n",
       "      <td>S</td>\n",
       "    </tr>\n",
       "    <tr>\n",
       "      <th>3</th>\n",
       "      <td>4</td>\n",
       "      <td>1</td>\n",
       "      <td>1</td>\n",
       "      <td>Futrelle, Mrs. Jacques Heath (Lily May Peel)</td>\n",
       "      <td>female</td>\n",
       "      <td>35.0</td>\n",
       "      <td>1</td>\n",
       "      <td>0</td>\n",
       "      <td>113803</td>\n",
       "      <td>53.1000</td>\n",
       "      <td>C123</td>\n",
       "      <td>S</td>\n",
       "    </tr>\n",
       "    <tr>\n",
       "      <th>4</th>\n",
       "      <td>5</td>\n",
       "      <td>0</td>\n",
       "      <td>3</td>\n",
       "      <td>Allen, Mr. William Henry</td>\n",
       "      <td>male</td>\n",
       "      <td>35.0</td>\n",
       "      <td>0</td>\n",
       "      <td>0</td>\n",
       "      <td>373450</td>\n",
       "      <td>8.0500</td>\n",
       "      <td>NaN</td>\n",
       "      <td>S</td>\n",
       "    </tr>\n",
       "  </tbody>\n",
       "</table>\n",
       "</div>"
      ],
      "text/plain": [
       "   PassengerId  Survived  Pclass  \\\n",
       "0            1         0       3   \n",
       "1            2         1       1   \n",
       "2            3         1       3   \n",
       "3            4         1       1   \n",
       "4            5         0       3   \n",
       "\n",
       "                                                Name     Sex   Age  SibSp  \\\n",
       "0                            Braund, Mr. Owen Harris    male  22.0      1   \n",
       "1  Cumings, Mrs. John Bradley (Florence Briggs Th...  female  38.0      1   \n",
       "2                             Heikkinen, Miss. Laina  female  26.0      0   \n",
       "3       Futrelle, Mrs. Jacques Heath (Lily May Peel)  female  35.0      1   \n",
       "4                           Allen, Mr. William Henry    male  35.0      0   \n",
       "\n",
       "   Parch            Ticket     Fare Cabin Embarked  \n",
       "0      0         A/5 21171   7.2500   NaN        S  \n",
       "1      0          PC 17599  71.2833   C85        C  \n",
       "2      0  STON/O2. 3101282   7.9250   NaN        S  \n",
       "3      0            113803  53.1000  C123        S  \n",
       "4      0            373450   8.0500   NaN        S  "
      ]
     },
     "execution_count": 6,
     "metadata": {},
     "output_type": "execute_result"
    }
   ],
   "source": [
    "#Overview dos dados\n",
    "df0.head()"
   ]
  },
  {
   "cell_type": "code",
   "execution_count": 7,
   "metadata": {},
   "outputs": [
    {
     "data": {
      "text/plain": [
       "PassengerId      0\n",
       "Survived         0\n",
       "Pclass           0\n",
       "Name             0\n",
       "Sex              0\n",
       "Age            177\n",
       "SibSp            0\n",
       "Parch            0\n",
       "Ticket           0\n",
       "Fare             0\n",
       "Cabin          687\n",
       "Embarked         2\n",
       "dtype: int64"
      ]
     },
     "execution_count": 7,
     "metadata": {},
     "output_type": "execute_result"
    }
   ],
   "source": [
    "#Verificando Missing Data\n",
    "df0.isnull().sum()"
   ]
  },
  {
   "cell_type": "markdown",
   "metadata": {},
   "source": [
    "**>** Observando os dados, pode-se notar que existem *missing data*  nas colunas \"Age\", \"Cabin\" e \"Embarked\". Ainda,  as colunas \"PassengerID\", \"Name\", \"SibSp\", \"Parch\", \"Ticket\" e \"Fare\" não são de interesse nesse momento, criaremos um novo dataframe apenas com as colunas \"Survived\", \"Pclass\" e \"Sex\"."
   ]
  },
  {
   "cell_type": "code",
   "execution_count": 8,
   "metadata": {},
   "outputs": [
    {
     "data": {
      "text/html": [
       "<div>\n",
       "<table border=\"1\" class=\"dataframe\">\n",
       "  <thead>\n",
       "    <tr style=\"text-align: right;\">\n",
       "      <th></th>\n",
       "      <th>Survived</th>\n",
       "      <th>Pclass</th>\n",
       "      <th>Sex</th>\n",
       "    </tr>\n",
       "  </thead>\n",
       "  <tbody>\n",
       "    <tr>\n",
       "      <th>0</th>\n",
       "      <td>0</td>\n",
       "      <td>3</td>\n",
       "      <td>male</td>\n",
       "    </tr>\n",
       "    <tr>\n",
       "      <th>1</th>\n",
       "      <td>1</td>\n",
       "      <td>1</td>\n",
       "      <td>female</td>\n",
       "    </tr>\n",
       "    <tr>\n",
       "      <th>2</th>\n",
       "      <td>1</td>\n",
       "      <td>3</td>\n",
       "      <td>female</td>\n",
       "    </tr>\n",
       "    <tr>\n",
       "      <th>3</th>\n",
       "      <td>1</td>\n",
       "      <td>1</td>\n",
       "      <td>female</td>\n",
       "    </tr>\n",
       "    <tr>\n",
       "      <th>4</th>\n",
       "      <td>0</td>\n",
       "      <td>3</td>\n",
       "      <td>male</td>\n",
       "    </tr>\n",
       "  </tbody>\n",
       "</table>\n",
       "</div>"
      ],
      "text/plain": [
       "   Survived  Pclass     Sex\n",
       "0         0       3    male\n",
       "1         1       1  female\n",
       "2         1       3  female\n",
       "3         1       1  female\n",
       "4         0       3    male"
      ]
     },
     "execution_count": 8,
     "metadata": {},
     "output_type": "execute_result"
    }
   ],
   "source": [
    "df = df0.loc[:,('Survived','Pclass','Sex')]\n",
    "df.head()"
   ]
  },
  {
   "cell_type": "markdown",
   "metadata": {},
   "source": [
    "**>** Importante notar as variáveis do novo dataframe são do tipo categórica, sendo \"Pclass\" ordinal e as demais nominais. Ainda, a variável \"Survived\" assume o valor 1 caso a pessoa tenha sobrevivido e valor 0 caso a pessoa tenha morrido."
   ]
  },
  {
   "cell_type": "markdown",
   "metadata": {},
   "source": [
    "### Alguns plots interessantes"
   ]
  },
  {
   "cell_type": "code",
   "execution_count": 9,
   "metadata": {},
   "outputs": [
    {
     "data": {
      "image/png": "[encoded data removed]",
      "text/plain": [
       "<matplotlib.figure.Figure at 0x117b6f850>"
      ]
     },
     "metadata": {},
     "output_type": "display_data"
    }
   ],
   "source": [
    "fig = plt.figure()\n",
    "fig.set_figheight(12)\n",
    "fig.set_figwidth(12)\n",
    "\n",
    "ax1 = plt.subplot(221)\n",
    "ax1 = sns.countplot(x='Survived',data=df)\n",
    "\n",
    "ax2 = plt.subplot(222)\n",
    "ax2 = sns.countplot(x='Pclass',data=df)\n",
    "\n",
    "ax3 = plt.subplot(223)\n",
    "ax3 = sns.countplot(x='Sex',data=df)\n"
   ]
  },
  {
   "cell_type": "code",
   "execution_count": 10,
   "metadata": {},
   "outputs": [
    {
     "data": {
      "text/plain": [
       "<matplotlib.axes._subplots.AxesSubplot at 0x117b6f3d0>"
      ]
     },
     "execution_count": 10,
     "metadata": {},
     "output_type": "execute_result"
    },
    {
     "data": {
      "image/png": "[encoded data removed]",
      "text/plain": [
       "<matplotlib.figure.Figure at 0x115761490>"
      ]
     },
     "metadata": {},
     "output_type": "display_data"
    }
   ],
   "source": [
    "sns.countplot(x='Sex', data=df , hue='Pclass')"
   ]
  },
  {
   "cell_type": "markdown",
   "metadata": {},
   "source": [
    "**>** Observando os countplots acima, nota-se claramente que\n",
    "\n",
    "- ~ 2/3 dos tripulantes morreram\n",
    "- ~ 1/2 da tripulação era composta por classe 3\n",
    "- ~ 2/3 eram homens\n",
    "-  A quantidade de homens na classe 3 é maior do que a soma dos homens nas classes 1 e 2\n",
    "-  Com relação às mulheres, há mais mulheres na classe 3 do que nas demais, mas a proporção de mulheres entre as classes é mais balanceada do que no caso dos homens"
   ]
  },
  {
   "cell_type": "code",
   "execution_count": 11,
   "metadata": {},
   "outputs": [
    {
     "data": {
      "text/plain": [
       "<matplotlib.axes._subplots.AxesSubplot at 0x1179667d0>"
      ]
     },
     "execution_count": 11,
     "metadata": {},
     "output_type": "execute_result"
    },
    {
     "data": {
      "image/png": "[encoded data removed]",
      "text/plain": [
       "<matplotlib.figure.Figure at 0x1179c9b10>"
      ]
     },
     "metadata": {},
     "output_type": "display_data"
    }
   ],
   "source": [
    "sns.barplot(x=\"Sex\", y=\"Survived\", hue=\"Pclass\", data=df)"
   ]
  },
  {
   "cell_type": "markdown",
   "metadata": {},
   "source": [
    "**>** Já analisando as três informações conjuntamente, temos resultados bastante interessantes.\n",
    "\n",
    "- A maior parte dos sobreviventes foram mulheres\n",
    "    - a maioria das mulheres sobreviventes eram da classe 1 e 2\n",
    "    - a quantidade de mulheres salvas da classe 1 é equiparável a quantiade de mulheres salvas da classe 2\n",
    "    - com as sobreviventes da classe 3 correspondendo a ~ 1/5 de todas as mulheres salvas\n",
    "- Dentre os homens, os pertencentes a classe 1 tiveram maior índice de sobreviventes\n",
    "    - A proporção de homens salvos nas classes 2 e 3 são bastante similares"
   ]
  },
  {
   "cell_type": "markdown",
   "metadata": {},
   "source": [
    "***\n",
    "**>** *Retornando à questão inicial, sobre a probabilidade de uma pessoa morrer, dado que é do sexo masculino e que estava na 3a classe*\n",
    "\n",
    "$P(A| B \\cap C) = \\frac{P(A)P(B|A)P(C|B \\cap A)}{P(B \\cap C)}$\n",
    "\n",
    "Abaixo reproduzo o passo a passo de como foi calculado essa probabilidade:"
   ]
  },
  {
   "cell_type": "code",
   "execution_count": 12,
   "metadata": {},
   "outputs": [
    {
     "data": {
      "text/plain": [
       "0.61616161616161613"
      ]
     },
     "execution_count": 12,
     "metadata": {},
     "output_type": "execute_result"
    }
   ],
   "source": [
    "# Pa = P(A) = probabilidade de ter morrido\n",
    "# Ea_a = Espaço amostral \n",
    "# df_S = dataframe somente com os não sobreviventes\n",
    "\n",
    "Ea_a = len(df)*1.\n",
    "df_S = df.loc[df.Survived == 0]\n",
    "\n",
    "Pa = (df_S.Survived.count())/Ea_a\n",
    "Pa"
   ]
  },
  {
   "cell_type": "code",
   "execution_count": 13,
   "metadata": {},
   "outputs": [
    {
     "data": {
      "text/plain": [
       "0.85245901639344257"
      ]
     },
     "execution_count": 13,
     "metadata": {},
     "output_type": "execute_result"
    }
   ],
   "source": [
    "# Pba = P(B|A) = probabilidade de ser homem, dentre os que morreram\n",
    "# Ea_ba = Espaço amostral\n",
    "# df_H = somente os não sobreviventes homens\n",
    "\n",
    "Ea_ba = len(df_S)*1.\n",
    "df_H = df_S.loc[df_S.Sex == 'male']\n",
    "\n",
    "Pba = (df_H.Sex.count())/Ea_ba\n",
    "Pba"
   ]
  },
  {
   "cell_type": "code",
   "execution_count": 14,
   "metadata": {},
   "outputs": [
    {
     "data": {
      "text/plain": [
       "0.64102564102564108"
      ]
     },
     "execution_count": 14,
     "metadata": {},
     "output_type": "execute_result"
    }
   ],
   "source": [
    "# Pcba = P(C|B inter A) = probabilidade de ser classe 3, dentre os homens que morreram\n",
    "# Ea_cba = Espaço amostral\n",
    "# df_c = somente os não sobreviventes homens da classe 3\n",
    "\n",
    "Ea_cba = len(df_H)*1.\n",
    "df_c = df_H.loc[df_S.Pclass == 3]\n",
    "\n",
    "Pcba = (df_c.Pclass.count())/Ea_cba\n",
    "Pcba"
   ]
  },
  {
   "cell_type": "code",
   "execution_count": 15,
   "metadata": {},
   "outputs": [
    {
     "data": {
      "text/plain": [
       "0.3894500561167228"
      ]
     },
     "execution_count": 15,
     "metadata": {},
     "output_type": "execute_result"
    }
   ],
   "source": [
    "# Pbc = P(B inter c) = probabilidade de ser homem E classe 3\n",
    "# Ea_bc = Ea_a = Espaço amostral\n",
    "# df_HC = somente homens da classe 3\n",
    "\n",
    "Ea_bc = Ea_a\n",
    "df_HC = df.loc[(df.Sex == 'male') & (df.Pclass == 3)]\n",
    "\n",
    "Pbc = len(df_HC)/Ea_bc\n",
    "Pbc"
   ]
  },
  {
   "cell_type": "code",
   "execution_count": 16,
   "metadata": {},
   "outputs": [
    {
     "name": "stdout",
     "output_type": "stream",
     "text": [
      "0.8646\n"
     ]
    }
   ],
   "source": [
    "P = (Pa * Pba * Pcba)/Pbc\n",
    "print('%3.4f' %P)"
   ]
  },
  {
   "cell_type": "markdown",
   "metadata": {},
   "source": [
    "**>** Assim, a probabilidade de uma pessoa morrer, dado que é do sexo masculino E estava na 3a classe é **P = 0.8646**."
   ]
  },
  {
   "cell_type": "markdown",
   "metadata": {},
   "source": [
    "### Outras Análises Possíveis\n",
    "\n",
    "As análises acima são bastante simples, mas já nos dá informações interessantes sobre os acontecimentos referentes aos tripulantes do Titanic. No presente caso, utilizamos apenas 3 informações (Pclass, Sex, Survived), mas nada nos impede de aprofundarmos nas informações e tentarmos entender, por exemplo,\n",
    "-  A correlação da idade com a sobrevivência\n",
    "    - Podemos inclusive extratificar em sexo\n",
    "-  A correlação entre a sobrevivência e a quantidade de siblings/parents\n",
    "-  A influência do valor da taxa (Fare)\n",
    "-  Extratificar pela região de embarque\n",
    "\n",
    "Claramente, há um vasto campo de análises possíveis de serem exploradas. Ainda, o *approach* utilizado acima considerou apenas uma análise frequentista, sendo que poderíamos analisar as probabilidades utilizando alguns *priores* como, por exemplo, a questão de haver preferência por salvar mulheres e crianças."
   ]
  },
  {
   "cell_type": "code",
   "execution_count": 17,
   "metadata": {},
   "outputs": [
    {
     "name": "stdout",
     "output_type": "stream",
     "text": [
      "\n",
      "-------------------\n",
      "tempo de processamento: 0.077833min\n",
      "-------------------\n",
      "Hoje é 5/5/2018, às 23:26\n"
     ]
    }
   ],
   "source": [
    "fim = time.time()\n",
    "time_proc = fim - ini\n",
    "print('')\n",
    "#print(bcolors.FAIL +'-'*79+ bcolors.ENDC)\n",
    "print('-------------------')\n",
    "print('tempo de processamento: %fmin' %(time_proc/60))\n",
    "print('-------------------')\n",
    "today = datetime.datetime.now()\n",
    "print('Hoje é %s/%s/%s, às %s:%s' %(today.day,today.month, today.year, today.hour, today.minute))"
   ]
  }
 ],
 "metadata": {
  "anaconda-cloud": {},
  "kernelspec": {
   "display_name": "Python [default]",
   "language": "python",
   "name": "python2"
  },
  "language_info": {
   "codemirror_mode": {
    "name": "ipython",
    "version": 2
   },
   "file_extension": ".py",
   "mimetype": "text/x-python",
   "name": "python",
   "nbconvert_exporter": "python",
   "pygments_lexer": "ipython2",
   "version": "2.7.12"
  }
 },
 "nbformat": 4,
 "nbformat_minor": 1
}
